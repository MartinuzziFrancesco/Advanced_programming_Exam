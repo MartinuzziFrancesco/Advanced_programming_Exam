{
 "cells": [
  {
   "cell_type": "code",
   "execution_count": 1,
   "metadata": {},
   "outputs": [
    {
     "ename": "SyntaxError",
     "evalue": "invalid syntax (<ipython-input-1-8c306baddf55>, line 1)",
     "output_type": "error",
     "traceback": [
      "\u001b[0;36m  File \u001b[0;32m\"<ipython-input-1-8c306baddf55>\"\u001b[0;36m, line \u001b[0;32m1\u001b[0m\n\u001b[0;31m    date:2012-11-14; from:Goofy; to:Louie;\u001b[0m\n\u001b[0m                         ^\u001b[0m\n\u001b[0;31mSyntaxError\u001b[0m\u001b[0;31m:\u001b[0m invalid syntax\n"
     ]
    }
   ],
   "source": [
    "date:2012-11-14; from:Goofy; to:Louie;"
   ]
  },
  {
   "cell_type": "code",
   "execution_count": 28,
   "metadata": {},
   "outputs": [],
   "source": [
    "from datetime import date\n",
    "import re"
   ]
  },
  {
   "cell_type": "code",
   "execution_count": 44,
   "metadata": {},
   "outputs": [],
   "source": [
    "s = 'date:2012-11-14; from:Goofy; to:Louie;'\n"
   ]
  },
  {
   "cell_type": "code",
   "execution_count": 45,
   "metadata": {},
   "outputs": [
    {
     "data": {
      "text/plain": [
       "'Goofy'"
      ]
     },
     "execution_count": 45,
     "metadata": {},
     "output_type": "execute_result"
    }
   ],
   "source": [
    "pat = ['date','to','from']\n",
    "d, f, t = [re.search('{}:(.+?);'.format(p), s).group(1) for p in pat]\n",
    "t"
   ]
  },
  {
   "cell_type": "code",
   "execution_count": 24,
   "metadata": {},
   "outputs": [],
   "source": [
    "d, f, t = s.split()\n",
    "import timeit\n"
   ]
  },
  {
   "cell_type": "code",
   "execution_count": 25,
   "metadata": {},
   "outputs": [
    {
     "name": "stdout",
     "output_type": "stream",
     "text": [
      "92.6 ns ± 4.3 ns per loop (mean ± std. dev. of 7 runs, 10000000 loops each)\n"
     ]
    }
   ],
   "source": [
    "%timeit ds = d[5:-1]"
   ]
  },
  {
   "cell_type": "code",
   "execution_count": 17,
   "metadata": {},
   "outputs": [
    {
     "data": {
      "text/plain": [
       "('date', ':', '2012-11-14;')"
      ]
     },
     "execution_count": 17,
     "metadata": {},
     "output_type": "execute_result"
    }
   ],
   "source": []
  },
  {
   "cell_type": "code",
   "execution_count": 26,
   "metadata": {},
   "outputs": [
    {
     "name": "stdout",
     "output_type": "stream",
     "text": [
      "299 ns ± 4.64 ns per loop (mean ± std. dev. of 7 runs, 1000000 loops each)\n"
     ]
    }
   ],
   "source": [
    "%timeit df = d[d.find(':')+1:d.find(';')]\n"
   ]
  },
  {
   "cell_type": "code",
   "execution_count": 43,
   "metadata": {},
   "outputs": [
    {
     "data": {
      "text/plain": [
       "'2012-11-14'"
      ]
     },
     "execution_count": 43,
     "metadata": {},
     "output_type": "execute_result"
    }
   ],
   "source": [
    "df"
   ]
  },
  {
   "cell_type": "code",
   "execution_count": 9,
   "metadata": {},
   "outputs": [
    {
     "data": {
      "text/plain": [
       "'from:Goofy;'"
      ]
     },
     "execution_count": 9,
     "metadata": {},
     "output_type": "execute_result"
    }
   ],
   "source": [
    "f"
   ]
  },
  {
   "cell_type": "code",
   "execution_count": 15,
   "metadata": {},
   "outputs": [
    {
     "data": {
      "text/plain": [
       "':Goofy'"
      ]
     },
     "execution_count": 15,
     "metadata": {},
     "output_type": "execute_result"
    }
   ],
   "source": [
    "d = d[5:-1]\n",
    "f = f[5:-1]\n",
    "t = t[3:-1]"
   ]
  },
  {
   "cell_type": "code",
   "execution_count": 20,
   "metadata": {},
   "outputs": [
    {
     "data": {
      "text/plain": [
       "'2012-11-14'"
      ]
     },
     "execution_count": 20,
     "metadata": {},
     "output_type": "execute_result"
    }
   ],
   "source": [
    "str(d)"
   ]
  },
  {
   "cell_type": "code",
   "execution_count": 105,
   "metadata": {},
   "outputs": [],
   "source": [
    "from datetime import date\n",
    "\n",
    "class PostcardList:\n",
    "\n",
    "    def __init__(self, file):\n",
    "        self._file = file\n",
    "        self._postcards = []\n",
    "        self._date = {}\n",
    "        self._from = {}\n",
    "        self._to = {}\n",
    "        self._unparsed = 0\n",
    "\n",
    "\n",
    "    def writeFile(self, _date, _from, _to): #write self.{_date,_from,_to} to self._file\n",
    "        try:\n",
    "            f = open(self._file, 'w')\n",
    "            f.write('date:{}; from:{}; to:{};\\n'.format(_date, _from, _to))\n",
    "            f.close()\n",
    "        except OSError:\n",
    "            print('Something went wrong in opening or in writing {}.\\n'.format(self._file))\n",
    "\n",
    "\n",
    "    def readFile(self): #from self._file read self.{_date,_from,_to}\n",
    "        try:\n",
    "            f = open(self._file, 'r')\n",
    "            self._postcards =[]\n",
    "            for l in f:\n",
    "                self._postcards.append(l)\n",
    "                self._unparsed += 1\n",
    "        except OSError:\n",
    "            print('Something went wrong in opening or in reading {}.\\n'.format(self._file))\n",
    "\n",
    "\n",
    "    def parsePostcards(self): #parse self._postcards, set self.{_date,_from,_to}\n",
    "        for postcard in self._postcards[-self._unparsed:]:\n",
    "            pat = ['date','to','from']\n",
    "            d, f, t = [re.search('{}:(.+?);'.format(p), postcard).group(1) for p in pat]\n",
    "            \n",
    "            for var, attr in zip([d, f, t],[self._date, self._to, self._from]):\n",
    "                if var in attr:\n",
    "                    attr[var].append(self._postcards.index(postcard))\n",
    "                else:\n",
    "                    attr[var] = [self._postcards.index(postcard)]\n",
    "            \n",
    "        self._unparsed = 0\n",
    "\n",
    "\n",
    "\n",
    "    def updateFile(self, _date, _from, _to): #write self.{_date,_from,_to} to self._file\n",
    "        try:\n",
    "            f = open(self._file, 'a+')\n",
    "            f.write('date:{}; from:{}; to:{};\\n'.format(_date, _from, _to))\n",
    "            f.close()\n",
    "        except OSError:\n",
    "            print('Something went wrong in opening or in writing {}.\\n'.format(self._file))\n",
    "\n",
    "\n",
    "    def updateLists(self): #as read but appending to self._postcards\n",
    "        try:\n",
    "            f = open(self._file, 'r')\n",
    "            for l in f.readlines()[len(self._postcards):]:\n",
    "                self._postcards.append(l)\n",
    "                self._unparsed += 1\n",
    "        except OSError:\n",
    "            print('Something went wrong in opening or in reading {}.\\n'.format(self._file))"
   ]
  },
  {
   "cell_type": "code",
   "execution_count": 106,
   "metadata": {},
   "outputs": [],
   "source": [
    "post = PostcardList('./exam_postcard_list1.txt')"
   ]
  },
  {
   "cell_type": "code",
   "execution_count": 107,
   "metadata": {},
   "outputs": [
    {
     "data": {
      "text/plain": [
       "'./exam_postcard_list1.txt'"
      ]
     },
     "execution_count": 107,
     "metadata": {},
     "output_type": "execute_result"
    }
   ],
   "source": [
    "post._file"
   ]
  },
  {
   "cell_type": "code",
   "execution_count": null,
   "metadata": {},
   "outputs": [],
   "source": []
  },
  {
   "cell_type": "code",
   "execution_count": 108,
   "metadata": {},
   "outputs": [],
   "source": [
    "post.readFile()"
   ]
  },
  {
   "cell_type": "code",
   "execution_count": 109,
   "metadata": {},
   "outputs": [
    {
     "data": {
      "text/plain": [
       "['date:2017-04-05; from:Bashful; to:Minnie;\\n',\n",
       " 'date:2013-06-19; from:Dopey; to:Sneezy;\\n',\n",
       " 'date:2011-07-03; from:Huey; to:Sneezy;\\n',\n",
       " 'date:2015-05-05; from:$crooge; to:Huey;\\n',\n",
       " 'date:2017-06-15; from:Huey; to:Happy;\\n',\n",
       " 'date:2016-01-19; from:Minnie; to:Sleepy;\\n',\n",
       " 'date:2013-12-12; from:Happy; to:Huey;\\n',\n",
       " 'date:2013-11-25; from:Bashful; to:Dewey;\\n',\n",
       " 'date:2016-08-23; from:Dopey; to:Minnie;\\n',\n",
       " 'date:2011-05-31; from:Louie; to:Bashful;\\n',\n",
       " 'date:2008-01-31; from:Sleepy; to:SnowWhite;\\n',\n",
       " 'date:2015-10-23; from:Doc; to:SnowWhite;\\n',\n",
       " 'date:2014-03-22; from:Sleepy; to:Mickey;\\n',\n",
       " 'date:2015-08-01; from:Sleepy; to:Grumpy;\\n',\n",
       " 'date:2014-04-21; from:Peter; to:Dewey;\\n',\n",
       " 'date:2014-04-21; from:Peter; to:Dewey;\\n']"
      ]
     },
     "execution_count": 109,
     "metadata": {},
     "output_type": "execute_result"
    }
   ],
   "source": [
    "post._postcards"
   ]
  },
  {
   "cell_type": "code",
   "execution_count": 110,
   "metadata": {},
   "outputs": [
    {
     "data": {
      "text/plain": [
       "16"
      ]
     },
     "execution_count": 110,
     "metadata": {},
     "output_type": "execute_result"
    }
   ],
   "source": [
    "post._unparsed"
   ]
  },
  {
   "cell_type": "code",
   "execution_count": 111,
   "metadata": {},
   "outputs": [],
   "source": [
    "post.parsePostcards()"
   ]
  },
  {
   "cell_type": "code",
   "execution_count": 112,
   "metadata": {},
   "outputs": [
    {
     "data": {
      "text/plain": [
       "{'Bashful': [0, 7],\n",
       " 'Dopey': [1, 8],\n",
       " 'Huey': [2, 4],\n",
       " '$crooge': [3],\n",
       " 'Minnie': [5],\n",
       " 'Happy': [6],\n",
       " 'Louie': [9],\n",
       " 'Sleepy': [10, 12, 13],\n",
       " 'Doc': [11],\n",
       " 'Peter': [14, 14]}"
      ]
     },
     "execution_count": 112,
     "metadata": {},
     "output_type": "execute_result"
    }
   ],
   "source": [
    "post._from"
   ]
  },
  {
   "cell_type": "code",
   "execution_count": 113,
   "metadata": {},
   "outputs": [
    {
     "data": {
      "text/plain": [
       "{'Minnie': [0, 8],\n",
       " 'Sneezy': [1, 2],\n",
       " 'Huey': [3, 6],\n",
       " 'Happy': [4],\n",
       " 'Sleepy': [5],\n",
       " 'Dewey': [7, 14, 14],\n",
       " 'Bashful': [9],\n",
       " 'SnowWhite': [10, 11],\n",
       " 'Mickey': [12],\n",
       " 'Grumpy': [13]}"
      ]
     },
     "execution_count": 113,
     "metadata": {},
     "output_type": "execute_result"
    }
   ],
   "source": [
    "post._to"
   ]
  },
  {
   "cell_type": "code",
   "execution_count": 114,
   "metadata": {},
   "outputs": [
    {
     "data": {
      "text/plain": [
       "{'2017-04-05': [0],\n",
       " '2013-06-19': [1],\n",
       " '2011-07-03': [2],\n",
       " '2015-05-05': [3],\n",
       " '2017-06-15': [4],\n",
       " '2016-01-19': [5],\n",
       " '2013-12-12': [6],\n",
       " '2013-11-25': [7],\n",
       " '2016-08-23': [8],\n",
       " '2011-05-31': [9],\n",
       " '2008-01-31': [10],\n",
       " '2015-10-23': [11],\n",
       " '2014-03-22': [12],\n",
       " '2015-08-01': [13],\n",
       " '2014-04-21': [14, 14]}"
      ]
     },
     "execution_count": 114,
     "metadata": {},
     "output_type": "execute_result"
    }
   ],
   "source": [
    "post._date"
   ]
  },
  {
   "cell_type": "code",
   "execution_count": 115,
   "metadata": {},
   "outputs": [],
   "source": [
    "post.updateFile('2014-04-21', 'Peter', 'Dewey')"
   ]
  },
  {
   "cell_type": "code",
   "execution_count": 116,
   "metadata": {},
   "outputs": [],
   "source": [
    "post.updateLists()"
   ]
  },
  {
   "cell_type": "code",
   "execution_count": 117,
   "metadata": {},
   "outputs": [
    {
     "data": {
      "text/plain": [
       "17"
      ]
     },
     "execution_count": 117,
     "metadata": {},
     "output_type": "execute_result"
    }
   ],
   "source": [
    "len(post._postcards)"
   ]
  },
  {
   "cell_type": "code",
   "execution_count": 118,
   "metadata": {},
   "outputs": [
    {
     "data": {
      "text/plain": [
       "1"
      ]
     },
     "execution_count": 118,
     "metadata": {},
     "output_type": "execute_result"
    }
   ],
   "source": [
    "post._unparsed"
   ]
  },
  {
   "cell_type": "code",
   "execution_count": 103,
   "metadata": {},
   "outputs": [],
   "source": [
    "post.parsePostcards()"
   ]
  },
  {
   "cell_type": "code",
   "execution_count": 104,
   "metadata": {},
   "outputs": [
    {
     "data": {
      "text/plain": [
       "{'2017-04-05': [0],\n",
       " '2013-06-19': [1],\n",
       " '2011-07-03': [2],\n",
       " '2015-05-05': [3],\n",
       " '2017-06-15': [4],\n",
       " '2016-01-19': [5],\n",
       " '2013-12-12': [6],\n",
       " '2013-11-25': [7],\n",
       " '2016-08-23': [8],\n",
       " '2011-05-31': [9],\n",
       " '2008-01-31': [10],\n",
       " '2015-10-23': [11],\n",
       " '2014-03-22': [12],\n",
       " '2015-08-01': [13],\n",
       " '2014-04-21': [14, 14]}"
      ]
     },
     "execution_count": 104,
     "metadata": {},
     "output_type": "execute_result"
    }
   ],
   "source": [
    "post._date\n"
   ]
  },
  {
   "cell_type": "code",
   "execution_count": 75,
   "metadata": {},
   "outputs": [
    {
     "data": {
      "text/plain": [
       "0"
      ]
     },
     "execution_count": 75,
     "metadata": {},
     "output_type": "execute_result"
    }
   ],
   "source": [
    "post._unparsed"
   ]
  },
  {
   "cell_type": "code",
   "execution_count": null,
   "metadata": {},
   "outputs": [],
   "source": []
  }
 ],
 "metadata": {
  "kernelspec": {
   "display_name": "Python 3",
   "language": "python",
   "name": "python3"
  },
  "language_info": {
   "codemirror_mode": {
    "name": "ipython",
    "version": 3
   },
   "file_extension": ".py",
   "mimetype": "text/x-python",
   "name": "python",
   "nbconvert_exporter": "python",
   "pygments_lexer": "ipython3",
   "version": "3.7.3"
  }
 },
 "nbformat": 4,
 "nbformat_minor": 2
}
